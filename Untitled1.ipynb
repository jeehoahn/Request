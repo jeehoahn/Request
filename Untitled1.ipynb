{
  "nbformat": 4,
  "nbformat_minor": 0,
  "metadata": {
    "colab": {
      "provenance": [],
      "authorship_tag": "ABX9TyNIYbtxQjJOOR+d1/8N9fhi",
      "include_colab_link": true
    },
    "kernelspec": {
      "name": "python3",
      "display_name": "Python 3"
    },
    "language_info": {
      "name": "python"
    }
  },
  "cells": [
    {
      "cell_type": "markdown",
      "metadata": {
        "id": "view-in-github",
        "colab_type": "text"
      },
      "source": [
        "<a href=\"https://colab.research.google.com/github/jeehoahn/Request/blob/main/Untitled1.ipynb\" target=\"_parent\"><img src=\"https://colab.research.google.com/assets/colab-badge.svg\" alt=\"Open In Colab\"/></a>"
      ]
    },
    {
      "cell_type": "code",
      "source": [
        "from google.colab import drive\n",
        "import os\n",
        "drive.mount('/content/drive')"
      ],
      "metadata": {
        "id": "FW6Rrf0O7gsV"
      },
      "execution_count": null,
      "outputs": []
    },
    {
      "cell_type": "code",
      "source": [
        "!onmt_build_vocab -config /content/drive/MyDrive/stuff/Build_Vocab.yml -n_sample 4000 -overwrite"
      ],
      "metadata": {
        "colab": {
          "base_uri": "https://localhost:8080/"
        },
        "id": "8PUJ6LQY8B4i",
        "outputId": "35fed8b5-3b37-423e-9304-d585e5a62f5d"
      },
      "execution_count": 38,
      "outputs": [
        {
          "output_type": "stream",
          "name": "stdout",
          "text": [
            "2023-12-12 04:06:09.273872: I tensorflow/core/platform/cpu_feature_guard.cc:182] This TensorFlow binary is optimized to use available CPU instructions in performance-critical operations.\n",
            "To enable the following instructions: AVX2 FMA, in other operations, rebuild TensorFlow with the appropriate compiler flags.\n",
            "2023-12-12 04:06:10.643954: W tensorflow/compiler/tf2tensorrt/utils/py_utils.cc:38] TF-TRT Warning: Could not find TensorRT\n",
            "Corpus corpus_1's weight should be given. We default it to 1 for you.\n",
            "[2023-12-12 04:06:13,548 INFO] Counter vocab from 4000 samples.\n",
            "[2023-12-12 04:06:13,548 INFO] Build vocab on 4000 transformed examples/corpus.\n",
            "[2023-12-12 04:06:13,763 INFO] Counters src: 15804\n",
            "[2023-12-12 04:06:13,764 INFO] Counters tgt: 3288\n"
          ]
        }
      ]
    },
    {
      "cell_type": "code",
      "source": [
        "sssssssssssssssssssssssssss"
      ],
      "metadata": {
        "id": "W3s94f4fNJ5Z"
      },
      "execution_count": null,
      "outputs": []
    }
  ]
}